{
 "cells": [
  {
   "cell_type": "markdown",
   "metadata": {},
   "source": [
    "# U.S. Medical Insurance Costs"
   ]
  },
  {
   "cell_type": "markdown",
   "metadata": {},
   "source": [
    "## Project Goals"
   ]
  },
  {
   "cell_type": "markdown",
   "metadata": {},
   "source": [
    "- <b>Task 1<b/>: Sort data from csv file into readable format\n",
    "- Task 2: Create lists of each variable (age, sex, BMI, children, smoker, region, charges)\n",
    "- Task 3: Create a dictionary of patient data called patients\n",
    "- Task 4: Create a function that works out the average patient age\n",
    "- Task 5: Create a dictionary of dictionaries, with each age group as keys and the values associated based on each age group.\n",
    "- Task 6: Create a function that calculates the average cost of medical insurance for each age group\n",
    "- Task 7: Identify proportion of male to female in data\n",
    "- Task 8: Identify differences in medical insurance cost based on sex\n",
    "- Task 9: Identify if region has a bearing on cost of insurance"
   ]
  },
  {
   "cell_type": "code",
   "execution_count": 81,
   "metadata": {},
   "outputs": [],
   "source": [
    "import pandas as pd\n",
    "import csv"
   ]
  },
  {
   "cell_type": "code",
   "execution_count": 82,
   "metadata": {},
   "outputs": [],
   "source": [
    "df = pd.read_csv (r'C:\\Users\\bunsn\\OneDrive\\Documents\\Projects\\Codecademy Projects\\MyCodecademyExercises\\python-portfolio-project-starter-files\\insurance.csv')"
   ]
  },
  {
   "cell_type": "code",
   "execution_count": 83,
   "metadata": {},
   "outputs": [
    {
     "name": "stdout",
     "output_type": "stream",
     "text": [
      "      age     sex     bmi  children smoker     region      charges\n",
      "0      19  female  27.900         0    yes  southwest  16884.92400\n",
      "1      18    male  33.770         1     no  southeast   1725.55230\n",
      "2      28    male  33.000         3     no  southeast   4449.46200\n",
      "3      33    male  22.705         0     no  northwest  21984.47061\n",
      "4      32    male  28.880         0     no  northwest   3866.85520\n",
      "...   ...     ...     ...       ...    ...        ...          ...\n",
      "1333   50    male  30.970         3     no  northwest  10600.54830\n",
      "1334   18  female  31.920         0     no  northeast   2205.98080\n",
      "1335   18  female  36.850         0     no  southeast   1629.83350\n",
      "1336   21  female  25.800         0     no  southwest   2007.94500\n",
      "1337   61  female  29.070         0    yes  northwest  29141.36030\n",
      "\n",
      "[1338 rows x 7 columns]\n"
     ]
    }
   ],
   "source": [
    "print(df)"
   ]
  },
  {
   "cell_type": "code",
   "execution_count": 4,
   "metadata": {
    "scrolled": false
   },
   "outputs": [],
   "source": [
    "with open('insurance.csv', 'r') as f:\n",
    "    reader = csv.reader(f)\n",
    "    data = list(reader)\n",
    "\n",
    "#print(data)"
   ]
  },
  {
   "cell_type": "code",
   "execution_count": 5,
   "metadata": {},
   "outputs": [
    {
     "name": "stdout",
     "output_type": "stream",
     "text": [
      "['age', 'sex', 'bmi', 'children', 'smoker', 'region', 'charges']\n"
     ]
    }
   ],
   "source": [
    "factors_list = []\n",
    "factors_list.append(data[0])\n",
    "factors = factors_list[0]\n",
    "print(factors)"
   ]
  },
  {
   "cell_type": "code",
   "execution_count": 6,
   "metadata": {},
   "outputs": [],
   "source": [
    "del data[0]\n",
    "#print(data) "
   ]
  },
  {
   "cell_type": "code",
   "execution_count": 7,
   "metadata": {},
   "outputs": [],
   "source": [
    "patient_age = []\n",
    "for x in data:\n",
    "    patient_age.append(x[0])\n",
    "#print(patient_age)"
   ]
  },
  {
   "cell_type": "code",
   "execution_count": 8,
   "metadata": {},
   "outputs": [],
   "source": [
    "patient_sex = []\n",
    "for x in data:\n",
    "    patient_sex.append(x[1])\n",
    "#print(patient_sex)"
   ]
  },
  {
   "cell_type": "code",
   "execution_count": 9,
   "metadata": {},
   "outputs": [],
   "source": [
    "patient_bmi = []\n",
    "for x in data:\n",
    "    patient_bmi.append(x[2])\n",
    "#print(patient_bmi)"
   ]
  },
  {
   "cell_type": "code",
   "execution_count": 10,
   "metadata": {},
   "outputs": [],
   "source": [
    "num_children = []\n",
    "for x in data:\n",
    "    num_children.append(x[3])\n",
    "#print(num_children)"
   ]
  },
  {
   "cell_type": "code",
   "execution_count": 11,
   "metadata": {},
   "outputs": [],
   "source": [
    "smoker = []\n",
    "for x in data:\n",
    "    smoker.append(x[4])\n",
    "#print(smoker)"
   ]
  },
  {
   "cell_type": "code",
   "execution_count": 12,
   "metadata": {},
   "outputs": [],
   "source": [
    "region = []\n",
    "for x in data:\n",
    "    region.append(x[5])\n",
    "#print(region)"
   ]
  },
  {
   "cell_type": "code",
   "execution_count": 13,
   "metadata": {},
   "outputs": [],
   "source": [
    "charges = []\n",
    "for x in data:\n",
    "    charges.append(x[6])\n",
    "#print(charges)"
   ]
  },
  {
   "cell_type": "code",
   "execution_count": 79,
   "metadata": {},
   "outputs": [],
   "source": [
    "patient_nums = []\n",
    "patients = {}\n",
    "\n",
    "for x in range(len(data)):\n",
    "    patient_nums.append('patient' + str(x))\n",
    "#print(patient_nums)\n",
    "\n",
    "for k, a, s, b, c, smok, r, char in zip(patient_nums, patient_age, patient_sex, patient_bmi, num_children, smoker, region, charges):\n",
    "    patient_dict = {k: {'Age': a, 'Sex': s, 'BMI': b, 'No. of Children': c, 'Smoker': smok, 'Region': r, 'Charges': char }}\n",
    "    patients.update(patient_dict)\n",
    "    \n",
    "#print(patients)"
   ]
  },
  {
   "cell_type": "code",
   "execution_count": 80,
   "metadata": {},
   "outputs": [
    {
     "name": "stdout",
     "output_type": "stream",
     "text": [
      "Of 1338 patients, the youngest patient is: 18 years old and the oldest patient is 64 years old.\n",
      "The average age of the patients is: 39.21\n",
      "The average cost of medical insurance for those who are 18 years old is: $ 7086\n",
      "The average cost of medical insurance for those who are 19 years old is: $ 8407\n",
      "The average cost of medical insurance for those who are 20 years old is: $ 8713\n",
      "The average cost of medical insurance for those who are 21 years old is: $ 8138\n",
      "The average cost of medical insurance for those who are 22 years old is: $ 8375\n",
      "The average cost of medical insurance for those who are 23 years old is: $ 8828\n",
      "The average cost of medical insurance for those who are 24 years old is: $ 9011\n",
      "The average cost of medical insurance for those who are 25 years old is: $ 9087\n",
      "The average cost of medical insurance for those who are 26 years old is: $ 8839\n",
      "The average cost of medical insurance for those who are 27 years old is: $ 9098\n",
      "The average cost of medical insurance for those who are 28 years old is: $ 9096\n",
      "The average cost of medical insurance for those who are 29 years old is: $ 9182\n",
      "The average cost of medical insurance for those who are 30 years old is: $ 9397\n",
      "The average cost of medical insurance for those who are 31 years old is: $ 9443\n",
      "The average cost of medical insurance for those who are 32 years old is: $ 9431\n",
      "The average cost of medical insurance for those who are 33 years old is: $ 9576\n",
      "The average cost of medical insurance for those who are 34 years old is: $ 9673\n",
      "The average cost of medical insurance for those who are 35 years old is: $ 9744\n",
      "The average cost of medical insurance for those who are 36 years old is: $ 9847\n",
      "The average cost of medical insurance for those who are 37 years old is: $ 10174\n",
      "The average cost of medical insurance for those who are 38 years old is: $ 10094\n",
      "The average cost of medical insurance for those who are 39 years old is: $ 10157\n",
      "The average cost of medical insurance for those who are 40 years old is: $ 10219\n",
      "The average cost of medical insurance for those who are 41 years old is: $ 10198\n",
      "The average cost of medical insurance for those who are 42 years old is: $ 10300\n",
      "The average cost of medical insurance for those who are 43 years old is: $ 10610\n",
      "The average cost of medical insurance for those who are 44 years old is: $ 10785\n",
      "The average cost of medical insurance for those who are 45 years old is: $ 10925\n",
      "The average cost of medical insurance for those who are 46 years old is: $ 11039\n",
      "The average cost of medical insurance for those who are 47 years old is: $ 11253\n",
      "The average cost of medical insurance for those who are 48 years old is: $ 11359\n",
      "The average cost of medical insurance for those who are 49 years old is: $ 11399\n",
      "The average cost of medical insurance for those who are 50 years old is: $ 11525\n",
      "The average cost of medical insurance for those who are 51 years old is: $ 11644\n",
      "The average cost of medical insurance for those who are 52 years old is: $ 11828\n",
      "The average cost of medical insurance for those who are 53 years old is: $ 11938\n",
      "The average cost of medical insurance for those who are 54 years old is: $ 12112\n",
      "The average cost of medical insurance for those who are 55 years old is: $ 12206\n",
      "The average cost of medical insurance for those who are 56 years old is: $ 12270\n",
      "The average cost of medical insurance for those who are 57 years old is: $ 12363\n",
      "The average cost of medical insurance for those who are 58 years old is: $ 12394\n",
      "The average cost of medical insurance for those who are 59 years old is: $ 12527\n",
      "The average cost of medical insurance for those who are 60 years old is: $ 12701\n",
      "The average cost of medical insurance for those who are 61 years old is: $ 12870\n",
      "The average cost of medical insurance for those who are 62 years old is: $ 12982\n",
      "The average cost of medical insurance for those who are 63 years old is: $ 13103\n",
      "The average cost of medical insurance for those who are 64 years old is: $ 13270\n"
     ]
    }
   ],
   "source": [
    "#find average age\n",
    "#find age range (youngest/oldest)\n",
    "#no. of patients\n",
    "#correlation between age and charges\n",
    "\n",
    "ages_dictionary = {}\n",
    "\n",
    "\n",
    "def age_range(arg):\n",
    "    list_age = []\n",
    "    youngest = 150\n",
    "    oldest = 0\n",
    "    for age in arg:\n",
    "        list_age.append(int(age))\n",
    "    \n",
    "    for x in list_age:\n",
    "        if x < youngest:\n",
    "            youngest = x\n",
    "        if x > oldest:\n",
    "            oldest = x\n",
    "    print(\"Of \" + str(len(list_age)) + \" patients, the youngest patient is: \" + str(youngest) + \" years old and the oldest patient is \" + str(oldest) + \" years old.\")\n",
    "    \n",
    "    average = sum(list_age)/len(list_age)\n",
    "    return round(average, 2)\n",
    "    \n",
    "average = age_range(patient_age)\n",
    "print(\"The average age of the patients is: \" + str(average))\n",
    "\n",
    "#function that creates a dictionary ordered by ages. Each patient info is ordered in a dictionary and each dictionary saved as a value based on a key of age\n",
    "\n",
    "def age_against_charges(arg1, arg2):\n",
    "    list_age = []\n",
    "    for age in arg1:\n",
    "        if age not in list_age:\n",
    "            list_age.append(age)\n",
    "    age_range_in_order = sorted(list_age)\n",
    "    #print(age_range_in_order)\n",
    "    ages_dictionary = {el:[] for el in age_range_in_order}\n",
    "    #print(ages_dictionary)\n",
    "    for x in age_range_in_order:\n",
    "        for y in arg2.values():\n",
    "            if x == y['Age']:\n",
    "                ages_dictionary[x].append(y)\n",
    "    #print(ages_dictionary)\n",
    "    \n",
    "    #iterate through the keys of ages_dictionary to access the charges values, and find the average charges for each age group\n",
    "    new_list = []\n",
    "    for key in ages_dictionary.keys():\n",
    "        for value in ages_dictionary[key]:\n",
    "            new_list.append(value['Charges'])\n",
    "        new_list = [int(float(i)) for i in new_list]\n",
    "        new_average = sum(new_list) / len(new_list)\n",
    "        print(\"The average cost of medical insurance for those who are \" + str(key) + \" years old is: $ \" + str(round(new_average)))\n",
    "  \n",
    "age_against_charges(patient_age, patients)"
   ]
  },
  {
   "cell_type": "code",
   "execution_count": 20,
   "metadata": {},
   "outputs": [
    {
     "name": "stdout",
     "output_type": "stream",
     "text": [
      "0\n"
     ]
    }
   ],
   "source": []
  },
  {
   "cell_type": "code",
   "execution_count": null,
   "metadata": {},
   "outputs": [],
   "source": []
  }
 ],
 "metadata": {
  "kernelspec": {
   "display_name": "Python 3",
   "language": "python",
   "name": "python3"
  },
  "language_info": {
   "codemirror_mode": {
    "name": "ipython",
    "version": 3
   },
   "file_extension": ".py",
   "mimetype": "text/x-python",
   "name": "python",
   "nbconvert_exporter": "python",
   "pygments_lexer": "ipython3",
   "version": "3.8.5"
  }
 },
 "nbformat": 4,
 "nbformat_minor": 4
}
